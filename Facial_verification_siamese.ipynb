{
 "cells": [
  {
   "cell_type": "markdown",
   "id": "749301b8-4eff-4c6f-9471-aa20c633bc47",
   "metadata": {},
   "source": [
    "### Importing dependencies"
   ]
  },
  {
   "cell_type": "code",
   "execution_count": 1,
   "id": "a58509e2-6263-4c0e-9c96-03f0173ad3b2",
   "metadata": {},
   "outputs": [],
   "source": [
    "## Import dependencies\n",
    "\n",
    "import cv2\n",
    "import os\n",
    "import random\n",
    "import numpy as np\n",
    "from matplotlib import pyplot as plt\n"
   ]
  },
  {
   "cell_type": "code",
   "execution_count": 2,
   "id": "e1fd70ad-0a66-4c79-82d3-3db41771b6bd",
   "metadata": {},
   "outputs": [],
   "source": [
    "## Import tensorflow dependencies - FUnctional API\n",
    "from tensorflow.keras.models import Model\n",
    "from tensorflow.keras.layers import Layer,Conv2D,Dense,MaxPooling2D,Input,Flatten\n",
    "import tensorflow as tf\n",
    "\n"
   ]
  },
  {
   "cell_type": "markdown",
   "id": "02764603-2098-4a32-8147-a69ca5e49efe",
   "metadata": {},
   "source": [
    "## Set GPU Growth"
   ]
  },
  {
   "cell_type": "markdown",
   "id": "b9882bbe-66d3-4186-9cee-c8ba12a19c3d",
   "metadata": {
    "tags": []
   },
   "source": [
    "##### Avoid `Out of Memory` Error by setting GPU Memory Consumption Growth"
   ]
  },
  {
   "cell_type": "code",
   "execution_count": 3,
   "id": "9fe417dd-2e99-4fff-9128-af6ce6e093c2",
   "metadata": {},
   "outputs": [],
   "source": [
    "gpus = tf.config.experimental.list_physical_devices('GPU') #list all the gpus present\n",
    "for gpu in gpus:\n",
    "    tf.config.experimental.set_memory_growth(gpu,True)"
   ]
  },
  {
   "cell_type": "code",
   "execution_count": 4,
   "id": "ee59469f-8597-4089-a052-6a39c09c0ea1",
   "metadata": {},
   "outputs": [
    {
     "data": {
      "text/plain": [
       "1"
      ]
     },
     "execution_count": 4,
     "metadata": {},
     "output_type": "execute_result"
    }
   ],
   "source": [
    "len(gpus)"
   ]
  },
  {
   "cell_type": "markdown",
   "id": "d75373e6-4237-4a5e-b02a-3da726cb3fc3",
   "metadata": {},
   "source": [
    "### Create folder structure"
   ]
  },
  {
   "cell_type": "code",
   "execution_count": 5,
   "id": "48fecb16-c02b-4c77-9198-d7e00bc91b2e",
   "metadata": {},
   "outputs": [],
   "source": [
    "# Anchor means the original input image\n",
    "# Positive means whether the original image and verification image matches\n",
    "# Negetive means original image and verificationn image do not match\n",
    "\n",
    "# Positive and negetive comes inside of verification image.\n",
    "\n",
    "POS_PATH = os.path.join('data','positive')\n",
    "NEG_PATH = os.path.join('data','negative')\n",
    "ANC_PATH = os.path.join('data','anchor')"
   ]
  },
  {
   "cell_type": "code",
   "execution_count": 6,
   "id": "7fb4d1a7-d9e0-4ced-9c73-27f574560634",
   "metadata": {},
   "outputs": [],
   "source": [
    "# Make the directories\n",
    "# os.makedirs(POS_PATH)\n",
    "# os.makedirs(NEG_PATH)\n",
    "# os.makedirs(ANC_PATH)"
   ]
  },
  {
   "cell_type": "markdown",
   "id": "3cf3205b-0712-4d9f-9601-7d340b965893",
   "metadata": {},
   "source": [
    "# Collect Positives and Anchors"
   ]
  },
  {
   "cell_type": "markdown",
   "id": "06bb76b0-a4d1-4b87-8d9d-580fc3d1a6e6",
   "metadata": {},
   "source": [
    "### Unzip labelled Faces in Wild Dataset"
   ]
  },
  {
   "cell_type": "code",
   "execution_count": 7,
   "id": "f3d0cd69-9fef-4a6d-ba4e-654d12201a26",
   "metadata": {},
   "outputs": [],
   "source": [
    "# http://vis-www.cs.umass.edu/lfw/"
   ]
  },
  {
   "cell_type": "code",
   "execution_count": 8,
   "id": "f2518e52-06d4-447a-ac14-060c20884ce9",
   "metadata": {},
   "outputs": [],
   "source": [
    "# Uncompress Tar GZ Labelled Faces in the Wild Dataset\n",
    "\n",
    "!tar -xf lfw.tgz"
   ]
  },
  {
   "cell_type": "code",
   "execution_count": 9,
   "id": "2709a797-14ad-48d8-97a2-f7d8ebc0af7d",
   "metadata": {},
   "outputs": [],
   "source": [
    "# Move LFW Images to the following repository data/negative\n",
    "\n",
    "for directory in os.listdir('lfw'):\n",
    "    for file in os.listdir(os.path.join('lfw',directory)):\n",
    "        EX_PATH = os.path.join('lfw',directory,file)\n",
    "        NEW_PATH = os.path.join(NEG_PATH,file)\n",
    "        os.replace(EX_PATH,NEW_PATH)\n",
    "        "
   ]
  },
  {
   "cell_type": "code",
   "execution_count": 10,
   "id": "16e43ae0-ab40-43d5-9423-88041b87d3e5",
   "metadata": {},
   "outputs": [],
   "source": [
    "# for i in range(10):\n",
    "# #     print(\"*\")\n",
    "#     for j in range(i+1):\n",
    "#         print(\"*\",end=\"\")\n",
    "#     print(\"\")\n",
    "        "
   ]
  },
  {
   "cell_type": "code",
   "execution_count": 11,
   "id": "6812127a-e9d9-4435-b65c-f5c81b990b51",
   "metadata": {
    "tags": []
   },
   "outputs": [
    {
     "data": {
      "text/plain": [
       "['Aaron_Eckhart',\n",
       " 'Aaron_Guiel',\n",
       " 'Aaron_Patterson',\n",
       " 'Aaron_Peirsol',\n",
       " 'Aaron_Pena',\n",
       " 'Aaron_Sorkin',\n",
       " 'Aaron_Tippin',\n",
       " 'Abbas_Kiarostami',\n",
       " 'Abba_Eban',\n",
       " 'Abdel_Aziz_Al-Hakim',\n",
       " 'Abdel_Madi_Shabneh',\n",
       " 'Abdel_Nasser_Assidi',\n",
       " 'Abdoulaye_Wade',\n",
       " 'Abdulaziz_Kamilov',\n",
       " 'Abdullah',\n",
       " 'Abdullah_Ahmad_Badawi',\n",
       " 'Abdullah_al-Attiyah',\n",
       " 'Abdullah_Gul',\n",
       " 'Abdullah_Nasseef',\n",
       " 'Abdullatif_Sener',\n",
       " 'Abdul_Majeed_Shobokshi',\n",
       " 'Abdul_Rahman',\n",
       " 'Abel_Aguilar',\n",
       " 'Abel_Pacheco',\n",
       " 'Abid_Hamid_Mahmud_Al-Tikriti',\n",
       " 'Abner_Martinez',\n",
       " 'Abraham_Foxman',\n",
       " 'Aby_Har-Even',\n",
       " 'Adam_Ant',\n",
       " 'Adam_Freier',\n",
       " 'Adam_Herbert',\n",
       " 'Adam_Kennedy',\n",
       " 'Adam_Mair',\n",
       " 'Adam_Rich',\n",
       " 'Adam_Sandler',\n",
       " 'Adam_Scott',\n",
       " 'Adelina_Avila',\n",
       " 'Adel_Al-Jubeir',\n",
       " 'Adisai_Bodharamik',\n",
       " 'Adolfo_Aguilar_Zinser',\n",
       " 'Adolfo_Rodriguez_Saa',\n",
       " 'Adoor_Gopalakarishnan',\n",
       " 'Adriana_Lima',\n",
       " 'Adriana_Perez_Navarro',\n",
       " 'Adrianna_Zuzic',\n",
       " 'Adrian_Annus',\n",
       " 'Adrian_Fernandez',\n",
       " 'Adrian_McPherson',\n",
       " 'Adrian_Murrell',\n",
       " 'Adrian_Nastase',\n",
       " 'Adrien_Brody',\n",
       " 'Afton_Smith',\n",
       " 'Agbani_Darego',\n",
       " 'Agnelo_Queiroz',\n",
       " 'Agnes_Bruckner',\n",
       " 'Ahmad_Jbarah',\n",
       " 'Ahmad_Masood',\n",
       " 'Ahmed_Ahmed',\n",
       " 'Ahmed_Chalabi',\n",
       " 'Ahmed_Ghazi',\n",
       " 'Ahmed_Ibrahim_Bilal',\n",
       " 'Ahmed_Lopez',\n",
       " 'Ahmed_Qureia',\n",
       " 'Ahmet_Demir',\n",
       " 'Ahmet_Necdet_Sezer',\n",
       " 'Aicha_El_Ouafi',\n",
       " 'Aidan_Quinn',\n",
       " 'Aileen_Riggin_Soule',\n",
       " 'Ainsworth_Dyer',\n",
       " 'Ain_Seppik',\n",
       " 'Aishwarya_Rai',\n",
       " 'Aitor_Gonzalez',\n",
       " 'Aiysha_Smith',\n",
       " 'Ai_Sugiyama',\n",
       " 'Ajit_Agarkar',\n",
       " 'AJ_Cook',\n",
       " 'AJ_Lamas',\n",
       " 'Akbar_Al_Baker',\n",
       " 'Akbar_Hashemi_Rafsanjani',\n",
       " 'Akhmed_Zakayev',\n",
       " 'Akiko_Morigami',\n",
       " 'Akmal_Taher',\n",
       " 'Alain_Cervantes',\n",
       " 'Alain_Ducasse',\n",
       " 'Alanis_Morissette',\n",
       " 'Alanna_Ubach',\n",
       " 'Alan_Ball',\n",
       " 'Alan_Dershowitz',\n",
       " 'Alan_Dreher',\n",
       " 'Alan_Greenspan',\n",
       " 'Alan_Greer',\n",
       " 'Alan_Jackson',\n",
       " 'Alan_Mulally',\n",
       " 'Alan_Stonecipher',\n",
       " 'Alan_Tang_Kwong-wing',\n",
       " 'Alan_Trammell',\n",
       " 'Alan_Zemaitis',\n",
       " 'Alastair_Campbell',\n",
       " 'Alastair_Johnston',\n",
       " 'Albaro_Recoba',\n",
       " 'Alberta_Lee',\n",
       " 'Alberto_Acosta',\n",
       " 'Alberto_Fujimori',\n",
       " 'Alberto_Gonzales',\n",
       " 'Alberto_Ruiz_Gallardon',\n",
       " 'Alberto_Sordi',\n",
       " 'Albert_Brooks',\n",
       " 'Albert_Costa',\n",
       " 'Albert_Montanes',\n",
       " 'Albert_Pujols',\n",
       " 'Albrecht_Mentz',\n",
       " 'Aldo_Paredes',\n",
       " 'Alecos_Markides',\n",
       " 'Alec_Baldwin',\n",
       " 'Alejandro_Atchugarry',\n",
       " 'Alejandro_Avila',\n",
       " 'Alejandro_Fernandez',\n",
       " 'Alejandro_Gonzalez_Inarritu',\n",
       " 'Alejandro_Lembo',\n",
       " 'Alejandro_Lerner',\n",
       " 'Alejandro_Lopez',\n",
       " 'Alejandro_Toledo',\n",
       " 'Aleksander_Kwasniewski',\n",
       " 'Aleksander_Voloshin',\n",
       " 'Alek_Wek',\n",
       " 'Alessandra_Cerna',\n",
       " 'Alessandro_Nesta',\n",
       " 'Alexander_Downer',\n",
       " 'Alexander_Losyukov',\n",
       " 'Alexander_Lukashenko',\n",
       " 'Alexander_Payne',\n",
       " 'Alexander_Rumyantsev',\n",
       " 'Alexandra_Jackson',\n",
       " 'Alexandra_Pelosi',\n",
       " 'Alexandra_Rozovskaya',\n",
       " 'Alexandra_Spann',\n",
       " 'Alexandra_Stevenson',\n",
       " 'Alexandra_Vodjanikova',\n",
       " 'Alexandre_Daigle',\n",
       " 'Alexandre_Despatie',\n",
       " 'Alexandre_Herchcovitch',\n",
       " 'Alexandre_Vinokourov',\n",
       " 'Alexa_Loren',\n",
       " 'Alexa_Vega',\n",
       " 'Alexis_Bledel',\n",
       " 'Alexis_Dennisoff',\n",
       " 'Alex_Barros',\n",
       " 'Alex_Cabrera',\n",
       " 'Alex_Cejka',\n",
       " 'Alex_Corretja',\n",
       " 'Alex_Ferguson',\n",
       " 'Alex_Gonzalez',\n",
       " 'Alex_Holmes',\n",
       " 'Alex_King',\n",
       " 'Alex_Penelas',\n",
       " 'Alex_Popov',\n",
       " 'Alex_Sink',\n",
       " 'Alex_Wallau',\n",
       " 'Alex_Zanardi',\n",
       " 'Alfonso_Cuaron',\n",
       " 'Alfonso_Portillo',\n",
       " 'Alfonso_Soriano',\n",
       " 'Alfredo_di_Stefano',\n",
       " 'Alfredo_Moreno',\n",
       " 'Alfredo_Pena',\n",
       " 'Alfred_Ford',\n",
       " 'Alfred_Sant',\n",
       " 'Alice_Fisher',\n",
       " 'Alicia_Hollowell',\n",
       " 'Alicia_Keys',\n",
       " 'Alicia_Molik',\n",
       " 'Alicia_Silverstone',\n",
       " 'Alicia_Witt',\n",
       " 'Alimzhan_Tokhtakhounov',\n",
       " 'Alina_Kabaeva',\n",
       " 'Aline_Chretien',\n",
       " 'Alisha_Richman',\n",
       " 'Alison_Krauss',\n",
       " 'Alison_Lohman',\n",
       " 'Alistair_MacDonald',\n",
       " 'Ali_Abbas',\n",
       " 'Ali_Abdullah_Saleh',\n",
       " 'Ali_Adbul_Karim_Madani',\n",
       " 'Ali_Ahmeti',\n",
       " 'Ali_Bin_Hussein',\n",
       " 'Ali_Fallahian',\n",
       " 'Ali_Hammoud',\n",
       " 'Ali_Khamenei',\n",
       " 'Ali_Mohammed_Maher',\n",
       " 'Ali_Naimi',\n",
       " 'Allan_Houston',\n",
       " 'Allan_Kemakeza',\n",
       " 'Allan_Wagner',\n",
       " 'Allen_Iverson',\n",
       " 'Allen_Rock',\n",
       " 'Allison_Janney',\n",
       " 'Allison_Searing',\n",
       " 'Allyson_Felix',\n",
       " 'Ally_Sheedy',\n",
       " 'Alma_Powell',\n",
       " 'Almeida_Baptista',\n",
       " 'Alonzo_Mourning',\n",
       " 'Alvaro_Noboa',\n",
       " 'Alvaro_Silva_Calderon',\n",
       " 'Alvaro_Uribe',\n",
       " 'Alyse_Beaupre',\n",
       " 'Alyson_Hannigan',\n",
       " 'Aly_Wagner',\n",
       " 'Al_Cardenas',\n",
       " 'Al_Davis',\n",
       " 'Al_Gore',\n",
       " 'Al_Leiter',\n",
       " 'Al_Pacino',\n",
       " 'Al_Sharpton',\n",
       " 'Amanda_Beard',\n",
       " 'Amanda_Bynes',\n",
       " 'Amanda_Coetzer',\n",
       " 'Amanda_Marsh',\n",
       " 'Amanda_Plumer',\n",
       " 'Amber_Frey',\n",
       " 'Amber_Tamblyn',\n",
       " 'Ambrose_Lee',\n",
       " 'Amelia_Vega',\n",
       " 'Amelie_Mauresmo',\n",
       " 'Amer_al-Saadi',\n",
       " 'Amporn_Falise',\n",
       " 'Amram_Mitzna',\n",
       " 'Amr_Moussa',\n",
       " 'Amy_Brenneman',\n",
       " 'Amy_Cotton',\n",
       " 'Amy_Gale',\n",
       " 'Amy_Pascal',\n",
       " 'Amy_Redford',\n",
       " 'Amy_Smart',\n",
       " 'Amy_Yasbeck',\n",
       " 'Anastasia_Kelesidou',\n",
       " 'Anastasia_Myskina',\n",
       " 'Anatoliy_Kinakh',\n",
       " 'Ana_Claudia_Talancon',\n",
       " 'Ana_Guevara',\n",
       " 'Ana_Isabel_Sanchez',\n",
       " 'Ana_Palacio',\n",
       " 'Ana_Paula_Gerard',\n",
       " 'Ana_Sebastiao',\n",
       " 'Anderson_Varejao',\n",
       " 'Anders_Ebbeson',\n",
       " 'Anders_Fogh_Rasmussen',\n",
       " 'Andreas_Vinciguerra',\n",
       " 'Andrea_Bocelli',\n",
       " 'Andrea_De_Cruz',\n",
       " 'Andrea_Kiser',\n",
       " 'Andrea_Yates',\n",
       " 'Andrei_Konchalovsky',\n",
       " 'Andrei_Mikhnevich',\n",
       " 'Andrei_Nikolishin',\n",
       " 'Andres_DAlessandro',\n",
       " 'Andres_Manuel_Lopez_Obrador',\n",
       " 'Andres_Pastrana',\n",
       " 'Andrew_Bernard',\n",
       " 'Andrew_Bunner',\n",
       " 'Andrew_Caldecott',\n",
       " 'Andrew_Cuomo',\n",
       " 'Andrew_Fastow',\n",
       " 'Andrew_Firestone',\n",
       " 'Andrew_Gilligan',\n",
       " 'Andrew_Jarecki',\n",
       " 'Andrew_Luster',\n",
       " 'Andrew_Niccol',\n",
       " 'Andrew_Sabey',\n",
       " 'Andrew_Shutley',\n",
       " 'Andrew_Weissmann',\n",
       " 'Andrew_Wetzler',\n",
       " 'Andre_Agassi',\n",
       " 'Andre_Bucher',\n",
       " 'Andre_Lange',\n",
       " 'Andre_Smith',\n",
       " 'Andre_Techine',\n",
       " 'Andrzej_Tyszkiewicz',\n",
       " 'Andy_Benes',\n",
       " 'Andy_Bryant',\n",
       " 'Andy_Dick',\n",
       " 'Andy_Garcia',\n",
       " 'Andy_Graves',\n",
       " 'Andy_Griffith',\n",
       " 'Andy_Griggs',\n",
       " 'Andy_Hebb',\n",
       " 'Andy_Lau',\n",
       " 'Andy_Madikians',\n",
       " 'Andy_North',\n",
       " 'Andy_Perez',\n",
       " 'Andy_Roddick',\n",
       " 'Andy_Rooney',\n",
       " 'Andy_Warhol',\n",
       " 'Andy_Wisecarver',\n",
       " 'Anette_Hosoi',\n",
       " 'AnFernce_Negron',\n",
       " 'Angela_Alvarado_Rosa',\n",
       " 'Angela_Bassett',\n",
       " 'Angela_Lansbury',\n",
       " 'Angela_Mascia-Frye',\n",
       " 'Angela_Merkel',\n",
       " 'Angelica_Romero',\n",
       " 'Angelina_Jolie',\n",
       " 'Angelo_Genova',\n",
       " 'Angelo_Reyes',\n",
       " 'Angel_Lockward',\n",
       " 'Angel_Maza',\n",
       " 'Angie_Arzola',\n",
       " 'Angie_Martinez',\n",
       " 'Anibal_Ibarra',\n",
       " 'Anil_Ramsook',\n",
       " 'Anita_DeFrantz',\n",
       " 'Anja_Paerson',\n",
       " 'Anjum_Hussain',\n",
       " 'Anna_Chicherova',\n",
       " 'Anna_Faris',\n",
       " 'Anna_Jones',\n",
       " 'Anna_Kournikova',\n",
       " 'Anna_Nicole_Smith',\n",
       " 'Anneli_Jaatteenmaki',\n",
       " 'Annette_Bening',\n",
       " 'Annette_Lu',\n",
       " 'Anne_Cavers',\n",
       " 'Anne_Donovan',\n",
       " 'Anne_Heche',\n",
       " 'Anne_Krueger',\n",
       " 'Anne_McLellan',\n",
       " 'Anne_ONeil',\n",
       " 'Annie-Jeanne_Reynaud',\n",
       " 'Annie_Chaplin',\n",
       " 'Annie_Machon',\n",
       " 'Annika_Sorenstam',\n",
       " 'Ann_Godbehere',\n",
       " 'Ann_Landers',\n",
       " 'Ann_Morgan',\n",
       " 'Ann_Veneman',\n",
       " 'Antanas_Valionis',\n",
       " 'Anthony_Carter',\n",
       " 'Anthony_Corso',\n",
       " 'Anthony_Ervin',\n",
       " 'Anthony_Fauci',\n",
       " 'Anthony_Garotinho',\n",
       " 'Anthony_Hazen',\n",
       " 'Anthony_Hopkins',\n",
       " 'Anthony_LaPaglia',\n",
       " 'Anthony_Lee_Johnson',\n",
       " 'Anthony_Mazur',\n",
       " 'Anthony_Pico',\n",
       " 'Anthony_Pisciotti',\n",
       " 'Anthony_Principi',\n",
       " 'Anthony_Rackauckas',\n",
       " 'Anthony_Scott_Miller',\n",
       " 'Antje_Buschschulte',\n",
       " 'Antonio_Banderas',\n",
       " 'Antonio_Bernardo',\n",
       " 'Antonio_Cassano',\n",
       " 'Antonio_Catania',\n",
       " 'Antonio_Elias_Saca',\n",
       " 'Antonio_Palocci',\n",
       " 'Antonio_Trillanes',\n",
       " 'Antony_Leung',\n",
       " 'Anton_Balasingham',\n",
       " 'Antwun_Echols',\n",
       " 'Anwar_Ibrahim',\n",
       " 'Anzori_Kikalishvili',\n",
       " 'Aparna_Pillai',\n",
       " 'Aram_Adler',\n",
       " 'Arantxa_Sanchez-Vicario',\n",
       " 'Aretha_Franklin',\n",
       " 'Arianna_Huffington',\n",
       " 'Ariel_Sharon',\n",
       " 'Arie_Haan',\n",
       " 'Arif_Mardin',\n",
       " 'Ari_Bousbib',\n",
       " 'Ari_Fleischer',\n",
       " 'Arlen_Specter',\n",
       " 'Armando_Avila_Panchame',\n",
       " 'Armando_Calderon_Sol',\n",
       " 'Armando_Carrillo',\n",
       " 'Armand_Sargen',\n",
       " 'Arminio_Fraga',\n",
       " 'Arnaud_Clement',\n",
       " 'Arnaud_Lagardere',\n",
       " 'Arnie_Boehm',\n",
       " 'Arnoldo_Aleman',\n",
       " 'Arnold_Palmer',\n",
       " 'Arnold_Schwarzenegger',\n",
       " 'Arnold_Scott',\n",
       " 'Aron_Ralston',\n",
       " 'Arsinee_Khanjian',\n",
       " 'Arthur_Johnson',\n",
       " 'Arthur_Martinez',\n",
       " 'Artieas_Shanks',\n",
       " 'Arturo_Gatti',\n",
       " 'Art_Cooper',\n",
       " 'Art_Hoffmann',\n",
       " 'Art_Howe',\n",
       " 'Art_Lopez',\n",
       " 'Arye_Mekel',\n",
       " 'Asa_Hutchinson',\n",
       " 'Ascencion_Barajas',\n",
       " 'Ashanti',\n",
       " 'Ashlea_Talbot',\n",
       " 'Ashley_Judd',\n",
       " 'Ashley_Olsen',\n",
       " 'Ashley_Postell',\n",
       " 'Ashraf_Alasmar',\n",
       " 'Ashraf_Ghani',\n",
       " 'Ashton_Kutcher',\n",
       " 'Asif_Ali_Zardari',\n",
       " 'Asif_Hanif',\n",
       " 'Askar_Akayev',\n",
       " 'Asmaa_Assad',\n",
       " 'Assad_Ahmadi',\n",
       " 'Astou_Ndiaye-Diatta',\n",
       " 'Astrid_Betancourt',\n",
       " 'Astrid_Eyzaguirre',\n",
       " 'Atal_Bihari_Vajpayee',\n",
       " 'Ataollah_Mohajerani',\n",
       " 'Atiabet_Ijan_Amabel',\n",
       " 'Atom_Egoyan',\n",
       " 'Atsushi_Sato',\n",
       " 'Audrey_Lacroix',\n",
       " 'Audrey_Sauret',\n",
       " 'Augustin_Calleri',\n",
       " 'Augusto_Pinochet',\n",
       " 'Augusto_Roa_Bastos',\n",
       " 'Aung_San_Suu_Kyi',\n",
       " 'Austin_Kearns',\n",
       " 'Avril_Lavigne',\n",
       " 'Azmi_Bishara',\n",
       " 'Azra_Akin',\n",
       " 'Babe_Ruth',\n",
       " 'Baburam_Bhattari',\n",
       " 'Bak_Chang-Ryun',\n",
       " 'Barbara_Bach',\n",
       " 'Barbara_Becker',\n",
       " 'Barbara_Bodine',\n",
       " 'Barbara_Boxer',\n",
       " 'Barbara_Brezigar',\n",
       " 'Barbara_De_Brun',\n",
       " 'Barbara_Esbin',\n",
       " 'Barbara_Felt-Miller',\n",
       " 'Barbara_Roberts',\n",
       " 'Barbara_Walters',\n",
       " 'Barbora_Strycova',\n",
       " 'Barbra_Streisand',\n",
       " 'Barrett_Jackman',\n",
       " 'Barry_Alvarez',\n",
       " 'Barry_Bonds',\n",
       " 'Barry_Collier',\n",
       " 'Barry_Diller',\n",
       " 'Barry_Ford',\n",
       " 'Barry_Hinson',\n",
       " 'Barry_Nakell',\n",
       " 'Barry_Switzer',\n",
       " 'Barry_Williams',\n",
       " 'Barry_Zito',\n",
       " 'Bartosz_Kizierowski',\n",
       " 'Bart_Freundlich',\n",
       " 'Bart_Hendricks',\n",
       " 'Barzan_al-Tikriti',\n",
       " 'Basdeo_Panday',\n",
       " 'Bashar_Assad',\n",
       " 'Baz_Luhrmann',\n",
       " 'BB_King',\n",
       " 'Beatrice_Dalle',\n",
       " 'Beatriz_Merino',\n",
       " 'Beecher_Ray_Kirby',\n",
       " 'Begum_Khaleda_Zia',\n",
       " 'Bela_Karolyi',\n",
       " 'Benazir_Bhutto',\n",
       " 'Benedita_da_Silva',\n",
       " 'Benicio_Del_Toro',\n",
       " 'Benito_Santiago',\n",
       " 'Benjamin_Bratt',\n",
       " 'Benjamin_Franklin',\n",
       " 'Benjamin_Martinez',\n",
       " 'Benjamin_McKenzie',\n",
       " 'Benjamin_Netanyahu',\n",
       " 'Benjamin_Neulander',\n",
       " 'Ben_Affleck',\n",
       " 'Ben_Betts',\n",
       " 'Ben_Braun',\n",
       " 'Ben_Broussard',\n",
       " 'Ben_Cahoon',\n",
       " 'Ben_Chandler',\n",
       " 'Ben_Cohen',\n",
       " 'Ben_Curtis',\n",
       " 'Ben_Davis',\n",
       " 'Ben_Glisan',\n",
       " 'Ben_Howland',\n",
       " 'Ben_Kingsley',\n",
       " 'Ben_Lee',\n",
       " 'Ben_Stein',\n",
       " 'Ben_Wallace',\n",
       " 'Bernadette_Peters',\n",
       " 'Bernardo_Segura',\n",
       " 'Bernard_Ebbers',\n",
       " 'Bernard_Giraudeau',\n",
       " 'Bernard_Kerik',\n",
       " 'Bernard_Landry',\n",
       " 'Bernard_Law',\n",
       " 'Bernard_Lord',\n",
       " 'Bernard_Siegel',\n",
       " 'Bernice_Wong',\n",
       " 'Bertie_Ahern',\n",
       " 'Bertrand_Bonello',\n",
       " 'Bertrand_Delanoe',\n",
       " 'Beth_Blough',\n",
       " 'Beth_Jones',\n",
       " 'Betsy_Coffin',\n",
       " 'Betsy_Smith',\n",
       " 'Bettina_Rheims',\n",
       " 'Betty_Garrison',\n",
       " 'Betty_Williams',\n",
       " 'Beyonce_Knowles',\n",
       " 'Bianca_Jagger',\n",
       " 'Bijan_Darvish',\n",
       " 'Bijan_Namdar_Zangeneh',\n",
       " 'Bilal_Erdogan',\n",
       " 'Biljana_Plavsic',\n",
       " 'Billy_Andrade',\n",
       " 'Billy_Beane',\n",
       " 'Billy_Bob_Thornton',\n",
       " 'Billy_Boyd',\n",
       " 'Billy_Crawford',\n",
       " 'Billy_Crystal',\n",
       " 'Billy_Donovan',\n",
       " 'Billy_Edelin',\n",
       " 'Billy_Gilman',\n",
       " 'Billy_Graham',\n",
       " 'Billy_Joel',\n",
       " 'Billy_Rork',\n",
       " 'Billy_Sollie',\n",
       " 'Billy_Tibbets',\n",
       " 'Bill_Belichick',\n",
       " 'Bill_Bradley',\n",
       " 'Bill_Butler',\n",
       " 'Bill_Byrne',\n",
       " 'Bill_Callahan',\n",
       " 'Bill_Carmody',\n",
       " 'Bill_Cartwright',\n",
       " 'Bill_Clancy',\n",
       " 'Bill_Clinton',\n",
       " 'Bill_Curry',\n",
       " 'Bill_Doba',\n",
       " 'Bill_Duffey',\n",
       " 'Bill_Elliott',\n",
       " 'Bill_Fennelly',\n",
       " 'Bill_Frist',\n",
       " 'Bill_Gates',\n",
       " 'Bill_Graham',\n",
       " 'Bill_Guerin',\n",
       " 'Bill_Herrion',\n",
       " 'Bill_Hughes',\n",
       " 'Bill_King',\n",
       " 'Bill_Kollar',\n",
       " 'Bill_Kong',\n",
       " 'Bill_Lerach',\n",
       " 'Bill_Maher',\n",
       " 'Bill_Mauldin',\n",
       " 'Bill_McBride',\n",
       " 'Bill_Nelson',\n",
       " 'Bill_OReilly',\n",
       " 'Bill_Parcells',\n",
       " 'Bill_Parsons',\n",
       " 'Bill_Paxton',\n",
       " 'Bill_Pryor',\n",
       " 'Bill_Rainer',\n",
       " 'Bill_Readdy',\n",
       " 'Bill_Richardson',\n",
       " 'Bill_Self',\n",
       " 'Bill_Simon',\n",
       " 'Bill_Sizemore',\n",
       " 'Bill_Stapleton',\n",
       " 'Bill_Stein',\n",
       " 'Bill_Walton',\n",
       " 'Bing_Crosby',\n",
       " 'Binyamin_Ben-Eliezer',\n",
       " 'Bison_Dele',\n",
       " 'Bixente_LIzarazu',\n",
       " 'BJ_Habibie',\n",
       " 'Blas_Ople',\n",
       " 'Blythe_Danner',\n",
       " 'Blythe_Hartley',\n",
       " 'Bobby_Bowden',\n",
       " 'Bobby_Goldwater',\n",
       " 'Bobby_Jackson',\n",
       " 'Bobby_Kielty',\n",
       " 'Bobby_Robson',\n",
       " 'Bobo_Balde',\n",
       " 'Bob_Alper',\n",
       " 'Bob_Beauprez',\n",
       " 'Bob_Bowlsby',\n",
       " 'Bob_Cantrell',\n",
       " 'Bob_Colvin',\n",
       " 'Bob_Crippen',\n",
       " 'Bob_Curtis',\n",
       " 'Bob_Dole',\n",
       " 'Bob_Eskridge',\n",
       " 'Bob_Ferguson',\n",
       " 'Bob_Geldof',\n",
       " 'Bob_Goldman',\n",
       " 'Bob_Graham',\n",
       " 'Bob_Guccione',\n",
       " 'Bob_Hartley',\n",
       " 'Bob_Hayes',\n",
       " 'Bob_Herz',\n",
       " 'Bob_Holden',\n",
       " 'Bob_Hope',\n",
       " 'Bob_Huggins',\n",
       " 'Bob_Iger',\n",
       " 'Bob_Krueger',\n",
       " 'Bob_Melvin',\n",
       " 'Bob_Menendez',\n",
       " 'Bob_Newhart',\n",
       " 'Bob_Petrino',\n",
       " 'Bob_Riley',\n",
       " 'Bob_Stoops',\n",
       " 'Bob_Sulkin',\n",
       " 'Bob_Taft',\n",
       " 'Bob_Wright',\n",
       " 'Bode_Miller',\n",
       " 'Bonnie_Fuller',\n",
       " 'Bonnie_Hunt',\n",
       " 'Bono',\n",
       " 'Boris_Becker',\n",
       " 'Boris_Berezovsky',\n",
       " 'Boris_Henry',\n",
       " 'Boris_Jordan',\n",
       " 'Boris_Trajkovski',\n",
       " 'Boris_Yeltsin',\n",
       " 'Boutros_Boutros_Ghali',\n",
       " 'Bo_Pelini',\n",
       " 'Bo_Ryan',\n",
       " 'Brady_Rodgers',\n",
       " 'Brad_Alexander_Smith',\n",
       " 'Brad_Banks',\n",
       " 'Brad_Brownell',\n",
       " 'Brad_Garrett',\n",
       " 'Brad_Gushue',\n",
       " 'Brad_Johnson',\n",
       " 'Brad_Miller',\n",
       " 'Brad_Pitt',\n",
       " 'Brad_Russ',\n",
       " 'Brad_Smith',\n",
       " 'Brad_Wilk',\n",
       " 'Brajesh_Mishra',\n",
       " 'Brandon_Boyd',\n",
       " 'Brandon_Fails',\n",
       " 'Brandon_Hammond',\n",
       " 'Brandon_Inge',\n",
       " 'Brandon_Jones',\n",
       " 'Brandon_Knight',\n",
       " 'Brandon_Larson',\n",
       " 'Brandon_Lloyd',\n",
       " 'Brandon_Robinson',\n",
       " 'Brandon_Spann',\n",
       " 'Brandon_Webb',\n",
       " 'Branko_Crvenkovski',\n",
       " 'Brawley_King',\n",
       " 'Brendan_Fraser',\n",
       " 'Brendan_Gaughan',\n",
       " 'Brendan_Hansen',\n",
       " 'Brendan_Stai',\n",
       " 'Brenda_Magana',\n",
       " 'Brenda_van_Dam',\n",
       " 'Brenda_Wilson',\n",
       " 'Brennon_Leighton',\n",
       " 'Brent_Coles',\n",
       " 'Brett_Boone',\n",
       " 'Brett_Hawke',\n",
       " 'Brett_Hull',\n",
       " 'Brett_Perry',\n",
       " 'Brian_Billick',\n",
       " 'Brian_Campbell',\n",
       " 'Brian_Cashman',\n",
       " 'Brian_Clemens',\n",
       " 'Brian_Cook',\n",
       " 'Brian_Cowen',\n",
       " 'Brian_De_Palma',\n",
       " 'Brian_Florence',\n",
       " 'Brian_Grazier',\n",
       " 'Brian_Gregory',\n",
       " 'Brian_Griese',\n",
       " 'Brian_Heidik',\n",
       " 'Brian_Henson',\n",
       " 'Brian_Jordan',\n",
       " 'Brian_Kerr',\n",
       " 'Brian_Lara',\n",
       " 'Brian_McIntyre',\n",
       " 'Brian_Meadors',\n",
       " 'Brian_Mulroney',\n",
       " 'Brian_Olson',\n",
       " 'Brian_Pavlich',\n",
       " 'Brian_Scalabrine',\n",
       " 'Brian_Schneider',\n",
       " 'Brian_StPierre',\n",
       " 'Brian_Van_Dusen',\n",
       " 'Brian_Weaver',\n",
       " 'Brian_Wells',\n",
       " 'Brian_Williams',\n",
       " 'Bridgette_Wilson-Sampras',\n",
       " 'Bridget_Fonda',\n",
       " 'Brigitte_Boisselier',\n",
       " 'Britney_Spears',\n",
       " 'Brittany_Snow',\n",
       " 'Brock_Berlin',\n",
       " 'Bronson_Arroyo',\n",
       " 'Brooke_Adams',\n",
       " 'Brooke_Gordon',\n",
       " 'Brooke_Shields',\n",
       " 'Brook_Robinson',\n",
       " 'Bruce_Arena',\n",
       " 'Bruce_Gebhardt',\n",
       " 'Bruce_Lunsford',\n",
       " 'Bruce_Paltrow',\n",
       " 'Bruce_Springsteen',\n",
       " 'Bruce_Van_De_Velde',\n",
       " 'Bruce_Weber',\n",
       " 'Bruce_Willis',\n",
       " 'Bruna_Colosio',\n",
       " 'Bruno_Junquiera',\n",
       " 'Bryant_Young',\n",
       " 'Bryan_Adams',\n",
       " 'Bryan_Chui',\n",
       " 'Bryan_Cooley',\n",
       " 'Bryan_Murray',\n",
       " 'Bryan_Thomas',\n",
       " 'Bryce_Carmine',\n",
       " 'Buck_Rodgers',\n",
       " 'Buddy_Ryan',\n",
       " 'Budd_Schulberg',\n",
       " 'Bud_Selig',\n",
       " 'Buford_Blount',\n",
       " 'Bulent_Ecevit',\n",
       " 'Bustam_A_Zedan_Aljanabi',\n",
       " 'Butch_Davis',\n",
       " 'Buzz_Hargrove',\n",
       " 'Byron_Scott',\n",
       " 'Cabas',\n",
       " 'Caio_Blat',\n",
       " 'Calbert_Cheaney',\n",
       " 'Calista_Flockhart',\n",
       " 'Calvin_Harrison',\n",
       " 'Calvin_Joseph_Coleman',\n",
       " 'Cameron_Diaz',\n",
       " 'Camilla_Parker_Bowles',\n",
       " 'Camille_Colvin',\n",
       " 'Camille_Lewis',\n",
       " 'Camryn_Manheim',\n",
       " 'Candace_Sutton',\n",
       " 'Candice_Beatty',\n",
       " 'Candice_Bergen',\n",
       " 'Candie_Kung',\n",
       " 'Carey_Lowell',\n",
       " 'Carina_Lau_Ka-ling',\n",
       " 'Carin_Koch',\n",
       " 'Cari_Davis',\n",
       " 'Carla_Del_Ponte',\n",
       " 'Carla_Gay_Balingit',\n",
       " 'Carla_Gugino',\n",
       " 'Carla_Moreno',\n",
       " 'Carla_Myers',\n",
       " 'Carla_Sullivan',\n",
       " 'Carla_Tricoli',\n",
       " 'Carlos_Alberto',\n",
       " 'Carlos_Alberto_Parreira',\n",
       " 'Carlos_Arroyo',\n",
       " 'Carlos_Barra',\n",
       " 'Carlos_Barragan',\n",
       " 'Carlos_Beltran',\n",
       " 'Carlos_Bianchi',\n",
       " 'Carlos_De_Abreu',\n",
       " 'Carlos_Fasciolo',\n",
       " 'Carlos_Ghosn',\n",
       " 'Carlos_Iturgaitz',\n",
       " 'Carlos_Juarez',\n",
       " 'Carlos_Lordkipanitse',\n",
       " 'Carlos_Manuel_Pruneda',\n",
       " 'Carlos_Menem',\n",
       " 'Carlos_Mesa',\n",
       " 'Carlos_Moya',\n",
       " 'Carlos_Ortega',\n",
       " 'Carlos_Paternina',\n",
       " 'Carlos_Queiroz',\n",
       " 'Carlos_Quintanilla_Schmidt',\n",
       " 'Carlos_Ruckauf',\n",
       " 'Carlos_Ruiz',\n",
       " 'Carlos_Salinas',\n",
       " 'Carlos_Savedra',\n",
       " 'Carlos_Vives',\n",
       " 'Carlo_Ancelotti',\n",
       " 'Carlo_Azeglio_Ciampi',\n",
       " 'Carlton_Baugh',\n",
       " 'Carlton_Dotson',\n",
       " 'Carly_Fiorina',\n",
       " 'Carly_Gullickson',\n",
       " 'Carl_Levin',\n",
       " 'Carl_Pope',\n",
       " 'Carl_Reiner',\n",
       " 'Carmen_Electra',\n",
       " 'Carolina_Barco',\n",
       " 'Carolina_Kluft',\n",
       " 'Carolina_Moraes',\n",
       " 'Caroline_Dhavernas',\n",
       " 'Caroline_Kennedy',\n",
       " 'Caroline_Link',\n",
       " 'Carolyn_Dawn_Johnson',\n",
       " 'Carolyn_Kuhl',\n",
       " 'Carol_Burnett',\n",
       " 'Carol_Carmody',\n",
       " 'Carol_Moseley_Braun',\n",
       " 'Carol_Niedermayer',\n",
       " 'Carol_Williams',\n",
       " 'Carrie-Anne_Moss',\n",
       " 'Carroll_Weimer',\n",
       " 'Carson_Daly',\n",
       " 'Carson_Palmer',\n",
       " 'Casey_Crowder',\n",
       " 'Casey_Mears',\n",
       " 'Cassandra_Heise',\n",
       " 'Cass_Ballenger',\n",
       " 'Casy_Preslar',\n",
       " 'Cate_Blanchett',\n",
       " 'Catherine_Bell',\n",
       " 'Catherine_Deneuve',\n",
       " 'Catherine_Donkers',\n",
       " 'Catherine_Ndereba',\n",
       " 'Catherine_Woodard',\n",
       " 'Catherine_Zeta-Jones',\n",
       " 'Cathryn_Crawford',\n",
       " 'Cathy_Chisholm',\n",
       " 'Cathy_Cunningham',\n",
       " 'Cathy_Freeman',\n",
       " 'Catriona_Le_May_Doan',\n",
       " 'Cecile_de_France',\n",
       " 'Cecilia_Bolocco',\n",
       " 'Cecilia_Chang',\n",
       " 'Cecilia_Cheung',\n",
       " 'Cedric_Benson',\n",
       " 'Celia_Cruz',\n",
       " 'Celine_Dion',\n",
       " 'Celso_Amorim',\n",
       " 'Celso_Lafer',\n",
       " 'Cemil_Cicek',\n",
       " 'Cesar_Gaviria',\n",
       " 'Cesar_Maia',\n",
       " 'Chadha_Gurinder',\n",
       " 'Chakib_Khelil',\n",
       " 'Chance_Mock',\n",
       " 'Chanda_Rubin',\n",
       " 'Chandrika_Kumaratunga',\n",
       " 'Chang_Dae-whan',\n",
       " 'Chang_Jae_On',\n",
       " 'Chang_Saio-yue',\n",
       " 'Chang_Sang',\n",
       " 'Chang_Tso',\n",
       " 'Chante_Jawan_Mallard',\n",
       " 'Chan_Choi',\n",
       " 'Chan_Gailey',\n",
       " 'Chan_Ho_Park',\n",
       " 'Charla_Moye',\n",
       " 'Charlene_Barshefsky',\n",
       " 'Charles_Bell',\n",
       " 'Charles_Bronson',\n",
       " 'Charles_Chandler_IV',\n",
       " 'Charles_Cope',\n",
       " 'Charles_Grassley',\n",
       " 'Charles_Holzner',\n",
       " 'Charles_Ingram',\n",
       " 'Charles_Kartman',\n",
       " 'Charles_Lebois',\n",
       " 'Charles_Mathews',\n",
       " 'Charles_Moose',\n",
       " 'Charles_Pickering',\n",
       " 'Charles_Pouty',\n",
       " 'Charles_Richardson',\n",
       " 'Charles_Rogers',\n",
       " 'Charles_Schumer',\n",
       " 'Charles_Tannok',\n",
       " 'Charles_Taylor',\n",
       " 'Charley_Armey',\n",
       " 'Charlie_Coles',\n",
       " 'Charlie_Deane',\n",
       " 'Charlie_Garner',\n",
       " 'Charlie_Hunnam',\n",
       " 'Charlie_Sheen',\n",
       " 'Charlie_Williams',\n",
       " 'Charlie_Zaa',\n",
       " 'Charlize_Theron',\n",
       " 'Charlotte_Casiraghi',\n",
       " 'Charlotte_Chambers',\n",
       " 'Charlotte_Church',\n",
       " 'Charlotte_Rampling',\n",
       " 'Charlton_Heston',\n",
       " 'Charmaine_Crooks',\n",
       " 'Chawki_Armali',\n",
       " 'Cha_Yung-gu',\n",
       " 'Chea_Sophara',\n",
       " 'Chelsea_Clinton',\n",
       " 'Chen_Kaige',\n",
       " 'Chen_Liang_Yu',\n",
       " 'Chen_Shui-bian',\n",
       " 'Chen_Tsai-chin',\n",
       " 'Cherie_Blair',\n",
       " 'Cherry_Jones',\n",
       " 'Cheryl_Ford',\n",
       " 'Cheryl_Hines',\n",
       " 'Cheryl_James',\n",
       " 'Cheryl_Little',\n",
       " 'Cheryl_Tiegs',\n",
       " 'Chhouk_Rin',\n",
       " 'Chick_Hearn',\n",
       " 'Chin-Feng_Chen',\n",
       " 'Chin-Hui_Tsao',\n",
       " 'Chip_Burrus',\n",
       " 'Chip_Ganassi',\n",
       " 'Chip_Knight',\n",
       " 'Chistian_Stahl',\n",
       " 'Chita_Rivera',\n",
       " 'Chloe_Sevigny',\n",
       " 'Choi_Sung-hong',\n",
       " 'Choi_Yun-yong',\n",
       " 'Chok_Tong_Goh',\n",
       " 'Cho_Myung-kyun',\n",
       " 'Christiane_Wulff',\n",
       " 'Christian_Bale',\n",
       " 'Christian_Fittipaldi',\n",
       " 'Christian_Gimenez',\n",
       " 'Christian_Lacroix',\n",
       " 'Christian_Lirette',\n",
       " 'Christian_Longo',\n",
       " 'Christian_Malcolm',\n",
       " 'Christian_Olsson',\n",
       " 'Christian_Patino',\n",
       " 'Christian_Von_Wernich',\n",
       " 'Christian_Wulff',\n",
       " 'Christina_Aguilera',\n",
       " 'Christina_Sawaya',\n",
       " 'Christine_Arron',\n",
       " 'Christine_Baumgartner',\n",
       " 'Christine_Ebersole',\n",
       " 'Christine_Gregoire',\n",
       " 'Christine_Rau',\n",
       " 'Christine_Todd_Whitman',\n",
       " 'Christopher_Amolsch',\n",
       " 'Christopher_Conyers',\n",
       " 'Christopher_Matero',\n",
       " 'Christopher_Patten',\n",
       " 'Christopher_Reeve',\n",
       " 'Christopher_Russell',\n",
       " 'Christopher_Speer',\n",
       " 'Christopher_Walken',\n",
       " 'Christopher_Whittle',\n",
       " 'Christoph_Daum',\n",
       " 'Christy_Ferer',\n",
       " 'Christy_Turlington',\n",
       " 'Chris_Andrews',\n",
       " 'Chris_Bell',\n",
       " 'Chris_Byrd',\n",
       " 'Chris_Cirino',\n",
       " 'Chris_Claiborne',\n",
       " 'Chris_Columbus',\n",
       " 'Chris_Cookson',\n",
       " 'Chris_Cooper',\n",
       " 'Chris_Cornell',\n",
       " 'Chris_Crocker',\n",
       " 'Chris_Dodd',\n",
       " 'Chris_Forsyth',\n",
       " 'Chris_Gratton',\n",
       " 'Chris_Hernandez',\n",
       " 'Chris_Klein',\n",
       " 'Chris_Kolanas',\n",
       " 'Chris_Matthews',\n",
       " 'Chris_Moore',\n",
       " 'Chris_Neil',\n",
       " 'Chris_Noth',\n",
       " 'Chris_Penn',\n",
       " 'Chris_Pronger',\n",
       " 'Chris_Reitsma',\n",
       " 'Chris_Rock',\n",
       " 'Chris_Simon',\n",
       " 'Chris_Swecker',\n",
       " 'Chris_Terry',\n",
       " 'Chris_Thomas',\n",
       " 'Chris_Tucker',\n",
       " 'Chris_Whitney',\n",
       " 'Chuanyun_Li',\n",
       " 'Chuck_Amato',\n",
       " 'Chuck_Bednarik',\n",
       " 'Chuck_Eidson',\n",
       " 'Chuck_Finley',\n",
       " 'Chuck_Hagel',\n",
       " 'Chuck_Woolery',\n",
       " 'Chuck_Yeager',\n",
       " 'Chung_Mong-hun',\n",
       " 'Chung_Mong-joon',\n",
       " 'Chyung_Dai-chul',\n",
       " ...]"
      ]
     },
     "execution_count": 11,
     "metadata": {},
     "output_type": "execute_result"
    }
   ],
   "source": [
    "os.listdir('lfw')"
   ]
  },
  {
   "cell_type": "markdown",
   "id": "748afd84-2f38-4be8-892d-1dc646b22ed0",
   "metadata": {},
   "source": [
    "### Collect Positive and Anchor Classes"
   ]
  },
  {
   "cell_type": "code",
   "execution_count": 12,
   "id": "b5114ce1-a14b-4e50-b2ee-a2559d029e8c",
   "metadata": {},
   "outputs": [],
   "source": [
    "## uuid library to generate unique image names\n",
    "import uuid #universal uniform identifier"
   ]
  },
  {
   "cell_type": "code",
   "execution_count": 13,
   "id": "11fdfe02-1456-403c-b1ca-9f2e54b574b7",
   "metadata": {},
   "outputs": [
    {
     "data": {
      "text/plain": [
       "'a6a6f252-46ed-11ec-b891-4074e0844ddc.jpg'"
      ]
     },
     "execution_count": 13,
     "metadata": {},
     "output_type": "execute_result"
    }
   ],
   "source": [
    "'{}.jpg'.format(uuid.uuid1())"
   ]
  },
  {
   "cell_type": "code",
   "execution_count": null,
   "id": "d41eb89d-7592-427f-ae34-2baf190ccc4a",
   "metadata": {},
   "outputs": [],
   "source": [
    "os.path.join(ANC_PATH,'{}.jpg'.format(uuid.uuid1()))"
   ]
  },
  {
   "cell_type": "code",
   "execution_count": null,
   "id": "75205181-79d8-4796-a814-0f4c6658a345",
   "metadata": {},
   "outputs": [],
   "source": [
    "## Establish a connection to the webcam\n",
    "\n",
    "cap = cv2.VideoCapture(0)\n",
    "while cap.isOpened():\n",
    "    ret,frame = cap.read() #capture video frame by frame\n",
    "    \n",
    "    #Cut down frame to 250px x 250px\n",
    "    frame = (frame[220:220+250,250:250+250:])\n",
    "    \n",
    "    # Collect anchors \n",
    "    if cv2.waitKey(1) & 0xFF == ord('a'): # on pressing 'a' it collects anchor images\n",
    "        # Create the unique file path\n",
    "        imgname = os.path.join(ANC_PATH, '{}.jpg'.format(uuid.uuid1()))\n",
    "        # Write out anchor image\n",
    "        cv2.imwrite(imgname,frame)\n",
    "    \n",
    "    # Collect Positives\n",
    "    if cv2.waitKey(1) & 0xFF == ord('p'): # on pressing 'p' it collects positive images\n",
    "        # Create the unique file path\n",
    "        imgname = os.path.join(POS_PATH,'{}.jpg'.format(uuid.uuid1()))\n",
    "        # Write out positive image\n",
    "        cv2.imwrite(imgname,frame)\n",
    "    \n",
    "    \n",
    "    \n",
    "    \n",
    "    cv2.imshow('frame',frame) # render image backk to screen\n",
    "    \n",
    "    if cv2.waitKey(1) & 0xFF == ord('q'): # the 'q' button is set as the quitting button\n",
    "        break\n",
    "  \n",
    "cap.release()\n",
    "cv2.destroyAllWindows() \n",
    "    \n",
    "    "
   ]
  },
  {
   "cell_type": "code",
   "execution_count": null,
   "id": "103625b1-1e98-43f1-b8d6-bb21b2c9b453",
   "metadata": {},
   "outputs": [],
   "source": [
    "plt.imshow(frame)"
   ]
  },
  {
   "cell_type": "code",
   "execution_count": null,
   "id": "02a56074-cb2f-4ae6-9f17-f4aeb41a2230",
   "metadata": {},
   "outputs": [],
   "source": [
    "frame.shape"
   ]
  },
  {
   "cell_type": "code",
   "execution_count": null,
   "id": "d7fbcbb4-b3f7-4a5b-a5e8-6501c0bc43d2",
   "metadata": {},
   "outputs": [],
   "source": [
    "# plt.imshow(frame[120:120+250,200:200+250:])"
   ]
  },
  {
   "cell_type": "markdown",
   "id": "cce2be53-5a06-4f55-affe-6ec1a75fc85b",
   "metadata": {},
   "source": [
    "# Load and Preprocess Image"
   ]
  },
  {
   "cell_type": "markdown",
   "id": "77285820-8056-4308-bd1a-73edf9afc94d",
   "metadata": {},
   "source": [
    "### Get image Directories"
   ]
  },
  {
   "cell_type": "code",
   "execution_count": null,
   "id": "5857b9de-e5d0-4ee8-ad5e-546cecdbec5d",
   "metadata": {},
   "outputs": [],
   "source": [
    "anchor = tf.data.Dataset.list_files(ANC_PATH+'\\*.jpg').take(300) # go and grab all of the different image wthin a specific directory. Only take 300 images \n",
    "positive = tf.data.Dataset.list_files(POS_PATH+'\\*.jpg').take(300)\n",
    "negative = tf.data.Dataset.list_files(NEG_PATH+'\\*.jpg').take(300)"
   ]
  },
  {
   "cell_type": "code",
   "execution_count": null,
   "id": "0863b970-c58a-4eb9-9115-a4df4be16e4e",
   "metadata": {},
   "outputs": [],
   "source": [
    "dir_test = anchor.as_numpy_iterator()"
   ]
  },
  {
   "cell_type": "code",
   "execution_count": null,
   "id": "8b64fc38-e6b6-45cd-82b2-968e2f21b8ae",
   "metadata": {},
   "outputs": [],
   "source": [
    "dir_test.next() # Continue grabbing the next element"
   ]
  },
  {
   "cell_type": "markdown",
   "id": "f5f3bc80-0c57-47bc-b995-bc3b652c5df8",
   "metadata": {},
   "source": [
    "### Preprocessing scale and Resize"
   ]
  },
  {
   "cell_type": "code",
   "execution_count": null,
   "id": "3afc033a-f944-4533-b3e8-0487aa548914",
   "metadata": {},
   "outputs": [],
   "source": [
    "def preprocess(file_path):\n",
    "    \n",
    "    # Read image from file path \n",
    "    byte_img = tf.io.read_file(file_path)\n",
    "    # Load the image\n",
    "    img = tf.image.decode_jpeg(byte_img)\n",
    "    \n",
    "    # Preprocessing steps - resizing the image to be 100x100x3\n",
    "    img = tf.image.resize(img,(100,100))\n",
    "    \n",
    "    # Scale image to be between 0 and 1\n",
    "    img = img/255.0\n",
    "    \n",
    "    # Return the image\n",
    "    return img\n",
    "    "
   ]
  },
  {
   "cell_type": "code",
   "execution_count": null,
   "id": "8c140dde-a25f-47a3-8847-f1738065c40f",
   "metadata": {},
   "outputs": [],
   "source": [
    "img = preprocess('data\\\\anchor\\\\a394e16c-3e1a-11ec-8494-4074e0844ddc.jpg')"
   ]
  },
  {
   "cell_type": "code",
   "execution_count": null,
   "id": "cb8eff16-1400-43ee-8f01-577bccb2edc8",
   "metadata": {},
   "outputs": [],
   "source": [
    "img.numpy().max()"
   ]
  },
  {
   "cell_type": "code",
   "execution_count": null,
   "id": "4b5751f8-c557-47e3-8f6f-aa7b589a13e1",
   "metadata": {},
   "outputs": [],
   "source": [
    "img.numpy().min()"
   ]
  },
  {
   "cell_type": "code",
   "execution_count": null,
   "id": "78478093-d614-418b-8ccf-0228c8862460",
   "metadata": {},
   "outputs": [],
   "source": [
    "plt.imshow(img)"
   ]
  },
  {
   "cell_type": "code",
   "execution_count": null,
   "id": "0fc0cfff-fac2-4f20-b26c-c5ca6fc411b7",
   "metadata": {},
   "outputs": [],
   "source": [
    "# dataset.map(preprocess)"
   ]
  },
  {
   "cell_type": "markdown",
   "id": "fef53d74-7c34-4387-9634-f0ddd5675462",
   "metadata": {},
   "source": [
    "### Create Labelled Dataset"
   ]
  },
  {
   "cell_type": "code",
   "execution_count": null,
   "id": "4cd76810-3ba1-4420-a9f2-95738efa8245",
   "metadata": {},
   "outputs": [],
   "source": [
    "\n",
    "# (anchor, positive) => 1,1,1,1,1\n",
    "# (anchor, negative) => 0,0,0,0,0"
   ]
  },
  {
   "cell_type": "code",
   "execution_count": null,
   "id": "498e747c-abdb-4ec9-a569-9e91cafb83a8",
   "metadata": {},
   "outputs": [],
   "source": [
    "class_labels = tf.data.Dataset.from_tensor_slices(tf.zeros(len(anchor)))"
   ]
  },
  {
   "cell_type": "code",
   "execution_count": null,
   "id": "9e530762-3b08-4621-a6b6-15e20655db7c",
   "metadata": {},
   "outputs": [],
   "source": [
    "# positives will be containing data having 1 and negatives data having 0\n",
    "positives =  tf.data.Dataset.zip((anchor,positive,tf.data.Dataset.from_tensor_slices(tf.ones(len(anchor)))))\n",
    "negatives = tf.data.Dataset.zip((anchor,negative, tf.data.Dataset.from_tensor_slices(tf.zeros(len(anchor)))))\n",
    "data = positives.concatenate(negatives)"
   ]
  },
  {
   "cell_type": "code",
   "execution_count": null,
   "id": "950b9a95-249b-4ec0-a1e5-822c951cb6a7",
   "metadata": {},
   "outputs": [],
   "source": [
    "samples = data.as_numpy_iterator()"
   ]
  },
  {
   "cell_type": "code",
   "execution_count": null,
   "id": "55b7270b-8a6a-46a8-ab3d-15aa27558f4e",
   "metadata": {},
   "outputs": [],
   "source": [
    "exampple = samples.next() #it contains anchor data positive value and labels"
   ]
  },
  {
   "cell_type": "code",
   "execution_count": null,
   "id": "b5cdea39-f3e5-436b-b1c7-b0b507e0f3d2",
   "metadata": {},
   "outputs": [],
   "source": [
    "exampple"
   ]
  },
  {
   "cell_type": "markdown",
   "id": "ff5be34a-8759-4028-adf0-aa4fe70a887a",
   "metadata": {},
   "source": [
    "### Build Train and Test Partition"
   ]
  },
  {
   "cell_type": "code",
   "execution_count": null,
   "id": "c4168a3b-890c-4116-9078-c5ca1ee2796b",
   "metadata": {},
   "outputs": [],
   "source": [
    "def preprocess_twin(input_img, validation_img,label):\n",
    "    \"\"\"\n",
    "    input_img is anchor\n",
    "    validation_img is either positive or negative\n",
    "    respective label is also returned\n",
    "        \n",
    "    \"\"\"\n",
    "    return(preprocess(input_img),preprocess(validation_img),label) \n"
   ]
  },
  {
   "cell_type": "code",
   "execution_count": null,
   "id": "e98209e9-cb30-48ef-a56f-2b2bb2bd44d5",
   "metadata": {},
   "outputs": [],
   "source": [
    "res = preprocess_twin(*exampple)"
   ]
  },
  {
   "cell_type": "code",
   "execution_count": null,
   "id": "2eb68bd1-dd25-46bd-bec2-b2bb11191b17",
   "metadata": {},
   "outputs": [],
   "source": [
    "len(res)"
   ]
  },
  {
   "cell_type": "code",
   "execution_count": null,
   "id": "51784f67-47b3-45aa-9505-27fc12670e4f",
   "metadata": {
    "tags": []
   },
   "outputs": [],
   "source": [
    "res[0]"
   ]
  },
  {
   "cell_type": "code",
   "execution_count": null,
   "id": "95a7464a-1575-4094-9120-0065b36aaf7d",
   "metadata": {},
   "outputs": [],
   "source": [
    "plt.imshow(res[1]) # EIther positive or negative"
   ]
  },
  {
   "cell_type": "code",
   "execution_count": null,
   "id": "f0c5eaeb-d50b-45aa-8c9c-9af5839443f7",
   "metadata": {},
   "outputs": [],
   "source": [
    "plt.imshow(res[0])# annchoe"
   ]
  },
  {
   "cell_type": "code",
   "execution_count": null,
   "id": "fae15b18-abe0-4e6a-95fc-e07be236beec",
   "metadata": {},
   "outputs": [],
   "source": [
    "res[2] #label"
   ]
  },
  {
   "cell_type": "code",
   "execution_count": null,
   "id": "5c9fc241-b53a-4836-8ea2-42bc2468c40a",
   "metadata": {},
   "outputs": [],
   "source": [
    "# Build data loader pipeline\n",
    "\n",
    "data = data.map(preprocess_twin)\n",
    "data = data.cache() #caching our images\n",
    "data = data.shuffle(buffer_size=10000) # shuffle the data"
   ]
  },
  {
   "cell_type": "code",
   "execution_count": null,
   "id": "d987af67-1ddb-4ba7-b123-d9703bd5f45e",
   "metadata": {},
   "outputs": [],
   "source": [
    "data"
   ]
  },
  {
   "cell_type": "code",
   "execution_count": null,
   "id": "1973ea25-3839-48af-bad5-22cbcbab4981",
   "metadata": {},
   "outputs": [],
   "source": [
    "\n",
    "##### <ShuffleDataset shapes: ((100, 100, None) #anchor image, (100, 100, None) #negative or positive image, ()) #label, types: (tf.float32, tf.float32, tf.float32)>"
   ]
  },
  {
   "cell_type": "code",
   "execution_count": null,
   "id": "568aecbb-9704-433e-b5d1-9e6635e97546",
   "metadata": {},
   "outputs": [],
   "source": [
    "samples = data.as_numpy_iterator()"
   ]
  },
  {
   "cell_type": "code",
   "execution_count": null,
   "id": "c7285442-f475-4948-84be-afc50af9d859",
   "metadata": {},
   "outputs": [],
   "source": [
    "samp = samples.next()"
   ]
  },
  {
   "cell_type": "code",
   "execution_count": null,
   "id": "53ea7ba8-5b34-4457-883f-76b455501a8c",
   "metadata": {},
   "outputs": [],
   "source": [
    "plt.imshow(samples.next()[0])"
   ]
  },
  {
   "cell_type": "code",
   "execution_count": null,
   "id": "ea779773-23e3-446a-be72-2a58e3408be7",
   "metadata": {},
   "outputs": [],
   "source": [
    "plt.imshow(samples.next()[1])"
   ]
  },
  {
   "cell_type": "markdown",
   "id": "6a2855b7-f5be-495c-a8e9-77bff43dd46a",
   "metadata": {},
   "source": [
    "#### keeping the image constant using samp variable"
   ]
  },
  {
   "cell_type": "code",
   "execution_count": null,
   "id": "cb24279e-e136-4f59-ab98-2cf7ee82147f",
   "metadata": {},
   "outputs": [],
   "source": [
    "plt.imshow(samp[0])"
   ]
  },
  {
   "cell_type": "code",
   "execution_count": null,
   "id": "206a1ded-3f48-4ed9-8fb8-849e17495d93",
   "metadata": {},
   "outputs": [],
   "source": [
    "plt.imshow(samp[1])"
   ]
  },
  {
   "cell_type": "code",
   "execution_count": null,
   "id": "41e6ab70-70cb-4e62-8c9e-648164ef0dca",
   "metadata": {},
   "outputs": [],
   "source": [
    "samp[2]"
   ]
  },
  {
   "cell_type": "code",
   "execution_count": null,
   "id": "8881734c-f0f3-4f7b-b85e-9057c3942acd",
   "metadata": {},
   "outputs": [],
   "source": [
    "### Training and testing partition\n",
    "train_data = data.take(round(len(data)*.7))\n",
    "train_data = train_data.batch(16)\n",
    "train_data = train_data.prefetch(8) # starts preparing the data before head\n"
   ]
  },
  {
   "cell_type": "code",
   "execution_count": null,
   "id": "48c32ee6-3d0e-49c4-aff1-41bbff5fac2c",
   "metadata": {},
   "outputs": [],
   "source": [
    "round(len(data)*.7)"
   ]
  },
  {
   "cell_type": "code",
   "execution_count": null,
   "id": "48c46b64-2f0b-4679-8613-324c46156ceb",
   "metadata": {},
   "outputs": [],
   "source": [
    "train_data"
   ]
  },
  {
   "cell_type": "code",
   "execution_count": null,
   "id": "60494f5e-026b-44cc-9abe-d92f41b69e23",
   "metadata": {},
   "outputs": [],
   "source": [
    "# testing partition\n",
    "test_data = data.skip(round(len(data)*.7))\n",
    "test_data = test_data.take(round(len(data)*.3))\n",
    "test_data = test_data.batch(16)\n",
    "test_data = test_data.prefetch(8)"
   ]
  },
  {
   "cell_type": "code",
   "execution_count": null,
   "id": "d5dc5cf4-c4f7-4888-923d-4fa9d0621882",
   "metadata": {},
   "outputs": [],
   "source": [
    "test_data"
   ]
  },
  {
   "cell_type": "code",
   "execution_count": null,
   "id": "87999662-600d-4a93-8d6c-03f09b1bf6b0",
   "metadata": {},
   "outputs": [],
   "source": [
    "(round(len(data)*.3))"
   ]
  },
  {
   "cell_type": "markdown",
   "id": "d4904069-56f1-4893-8b0e-a10080a6c5d2",
   "metadata": {},
   "source": [
    "# Model Engineering"
   ]
  },
  {
   "cell_type": "markdown",
   "id": "7bc9be0c-c7c5-4e23-a2b0-a89186dd5447",
   "metadata": {},
   "source": [
    "### Build Embedding layer"
   ]
  },
  {
   "cell_type": "code",
   "execution_count": null,
   "id": "7fd98570-bc83-4ab8-a73d-b2451a0d23cf",
   "metadata": {},
   "outputs": [],
   "source": []
  },
  {
   "cell_type": "code",
   "execution_count": null,
   "id": "2106880a-56af-49e6-88a9-a403ac81c4d2",
   "metadata": {},
   "outputs": [],
   "source": [
    "inp = Input(shape=(100,100,3),name='input_image')\n",
    "inp"
   ]
  },
  {
   "cell_type": "code",
   "execution_count": null,
   "id": "0c213917-47cc-480d-be45-1d97382f2804",
   "metadata": {},
   "outputs": [],
   "source": [
    "c1 = Conv2D(64,(10,10),activation='relu')(inp)\n",
    "c1"
   ]
  },
  {
   "cell_type": "code",
   "execution_count": null,
   "id": "7e3675f6-eb97-4bc4-8df2-92ae5fa4db44",
   "metadata": {},
   "outputs": [],
   "source": [
    "m1 = MaxPooling2D(64, (2,2), padding='same')(c1)"
   ]
  },
  {
   "cell_type": "code",
   "execution_count": null,
   "id": "ce2e1dc5-f775-4dee-8988-ea6886c48700",
   "metadata": {},
   "outputs": [],
   "source": [
    "c2 = Conv2D(128, (7,7), activation='relu')(m1)\n",
    "m2 = MaxPooling2D(64, (2,2), padding='same')(c2)"
   ]
  },
  {
   "cell_type": "code",
   "execution_count": null,
   "id": "97cc625b-a3d0-4544-8deb-38e8b66ab8aa",
   "metadata": {},
   "outputs": [],
   "source": [
    "c3 = Conv2D(128, (4,4), activation='relu')(m2)\n",
    "m3 = MaxPooling2D(64, (2,2), padding='same')(c3)"
   ]
  },
  {
   "cell_type": "code",
   "execution_count": null,
   "id": "eea08cea-6fcc-421b-891d-d8c530f318d5",
   "metadata": {},
   "outputs": [],
   "source": [
    "\n",
    "c4 = Conv2D(256, (4,4), activation='relu')(m3)\n",
    "f1 = Flatten()(c4)\n",
    "d1 = Dense(4096, activation='sigmoid')(f1)"
   ]
  },
  {
   "cell_type": "code",
   "execution_count": null,
   "id": "5282a190-a046-40e9-adc2-aa484218d064",
   "metadata": {},
   "outputs": [],
   "source": [
    "\n",
    "mod = Model(inputs=[inp], outputs=[d1], name='embedding')"
   ]
  },
  {
   "cell_type": "code",
   "execution_count": null,
   "id": "fbf78f60-d6a2-4cd2-82e3-0b996ea95f32",
   "metadata": {},
   "outputs": [],
   "source": [
    "mod.summary()"
   ]
  },
  {
   "cell_type": "code",
   "execution_count": null,
   "id": "73456511-9fdb-450a-8b6e-4a353a50d872",
   "metadata": {},
   "outputs": [],
   "source": [
    "def make_embedding():\n",
    "    inp = Input(shape=(100,100,3),name='input_image')\n",
    "    #first block\n",
    "    c1 = Conv2D(64,(10,10),activation='relu')(inp) #inp is connecting with first layer\n",
    "    m1 = MaxPooling2D(64,(2,2),padding='same')(c1)\n",
    "    #second block \n",
    "    c2 = Conv2D(128,(7,7),activation='relu')(m1)\n",
    "    m2 = MaxPooling2D(64,(2,2),padding='same')(c2)\n",
    "    \n",
    "    #Third block\n",
    "    c3 = Conv2D(128,(4,4),activation='relu')(m2)\n",
    "    m3 = MaxPooling2D(64,(2,2),padding='same')(c3)\n",
    "    \n",
    "    # Final embedding block\n",
    "    c4 = Conv2D(256,(4,4),activation='relu')(m3)\n",
    "    f1 = Flatten()(c4)\n",
    "    d1 = Dense(4096,activation='sigmoid')(f1)\n",
    "    \n",
    "    \n",
    "    return Model(inputs=[inp] , outputs=[d1] , name='embedding')\n"
   ]
  },
  {
   "cell_type": "code",
   "execution_count": null,
   "id": "ae41ef73-0ead-4593-a21e-c31a82ebe52f",
   "metadata": {},
   "outputs": [],
   "source": [
    "embedding = make_embedding()"
   ]
  },
  {
   "cell_type": "code",
   "execution_count": null,
   "id": "0a50433f-a0d8-4bbb-b3d2-1184c29ef130",
   "metadata": {},
   "outputs": [],
   "source": [
    "embedding.summary()"
   ]
  },
  {
   "cell_type": "markdown",
   "id": "a2928451-8f50-4683-b925-6a1dd6d598a8",
   "metadata": {},
   "source": [
    "### Build distance layer"
   ]
  },
  {
   "cell_type": "code",
   "execution_count": null,
   "id": "6e0bfb29-4eb3-4b7b-82a4-5c136d2f58a8",
   "metadata": {},
   "outputs": [],
   "source": [
    "# siamese L1 distance class\n",
    "class L1Dist(Layer): #layer comes from import layers\n",
    "    \"\"\"Takes output of the embedding.\n",
    "    Subtracts the Anchor from either positive or negative\n",
    "    so that we can compare both the faces\"\"\"\n",
    "    \n",
    "    def __init__(self,**kwargs):\n",
    "        super().__init__()\n",
    "        \n",
    "    #similarity calculation\n",
    "    def call(self,input_embedding,validation_embedding):\n",
    "        return tf.math.abs(input_embedding - validation_embedding)\n"
   ]
  },
  {
   "cell_type": "code",
   "execution_count": null,
   "id": "6563a3c2-6391-4996-b816-e0694a86f056",
   "metadata": {},
   "outputs": [],
   "source": [
    "l1 = L1Dist()"
   ]
  },
  {
   "cell_type": "markdown",
   "id": "1e7bdc3f-8196-40ed-8abe-24bd19fadfa8",
   "metadata": {},
   "source": [
    "### Make siamese model"
   ]
  },
  {
   "cell_type": "code",
   "execution_count": null,
   "id": "16d83d8e-2949-42f2-be5a-77411c64babb",
   "metadata": {},
   "outputs": [],
   "source": [
    "input_image = Input(name='input_img',shape=(100,100,3))\n",
    "validation_image = Input(name='validation_img',shape=(100,100,3))"
   ]
  },
  {
   "cell_type": "code",
   "execution_count": null,
   "id": "91c68e7f-7d42-42ce-b5e2-1834b9502180",
   "metadata": {},
   "outputs": [],
   "source": [
    "inp_embedding = embedding(input_image)\n",
    "val_embedding = embedding(validation_image)"
   ]
  },
  {
   "cell_type": "code",
   "execution_count": null,
   "id": "7577e9f0-100e-46d5-b0d3-1b69a4905fe8",
   "metadata": {},
   "outputs": [],
   "source": [
    "inp_embedding"
   ]
  },
  {
   "cell_type": "code",
   "execution_count": null,
   "id": "b6f9d4a8-7b16-4131-9b7c-a44c555baab3",
   "metadata": {},
   "outputs": [],
   "source": [
    "val_embedding"
   ]
  },
  {
   "cell_type": "code",
   "execution_count": null,
   "id": "82ab30e4-8ccd-4901-908f-8b4df51a2f70",
   "metadata": {},
   "outputs": [],
   "source": [
    "siamese_layer = L1Dist()\n",
    "distances = siamese_layer(inp_embedding, val_embedding) # distance b/w i/p embedding and validation embedding"
   ]
  },
  {
   "cell_type": "code",
   "execution_count": null,
   "id": "2d59b768-e05f-4c34-b031-d8eb0ffa2603",
   "metadata": {},
   "outputs": [],
   "source": [
    "classifier = Dense(1, activation='sigmoid')(distances)\n",
    "classifier"
   ]
  },
  {
   "cell_type": "code",
   "execution_count": null,
   "id": "f2615047-fc40-4492-bf8c-ef22c0939579",
   "metadata": {},
   "outputs": [],
   "source": [
    "siamese_network = Model(inputs=[input_image, validation_image], outputs=classifier, name='SiameseNetwork')"
   ]
  },
  {
   "cell_type": "code",
   "execution_count": null,
   "id": "a34fb41d-17c7-43f8-bee0-c8d91ea9730c",
   "metadata": {},
   "outputs": [],
   "source": [
    "siamese_network.summary()"
   ]
  },
  {
   "cell_type": "markdown",
   "id": "6027f4a7-88b6-4110-8288-39858f802dd3",
   "metadata": {},
   "source": [
    "##### Create a funtion for above stuff"
   ]
  },
  {
   "cell_type": "code",
   "execution_count": null,
   "id": "f0a1e552-37ac-4f44-9532-64088ce6cfc7",
   "metadata": {},
   "outputs": [],
   "source": [
    "def make_siamese_model():\n",
    "    \n",
    "    # Anchor image i/p in the n/w\n",
    "    input_image = Input(name='input_img',shape=(100,100,3)) #this Input module is from tensorflow.keras.layers\n",
    "    #validation image i/p in the n/w\n",
    "    validation_image = Input(name='validation_img',shape=(100,100,3))\n",
    "    \n",
    "    # combine siamese distance components\n",
    "    siamese_layer = L1Dist()\n",
    "    siamese_layer._name = 'distance'\n",
    "    distances = siamese_layer(embedding(input_image),embedding(validation_image)) # distance b/w i/p embedding and validation embedding\n",
    "    \n",
    "    # classification layer\n",
    "    classifier = Dense(1, activation='sigmoid')(distances)\n",
    "    \n",
    "    return Model(inputs = [input_image,validation_image], outputs=classifier,name = 'SiameseNetwork')\n",
    "\n"
   ]
  },
  {
   "cell_type": "code",
   "execution_count": null,
   "id": "87f4624d-bf63-4b4f-add8-8aacd396d425",
   "metadata": {},
   "outputs": [],
   "source": [
    "\n",
    "siamese_model = make_siamese_model()"
   ]
  },
  {
   "cell_type": "code",
   "execution_count": null,
   "id": "1a263383-ec95-47e0-a674-a74e5603fa40",
   "metadata": {},
   "outputs": [],
   "source": [
    "siamese_model.summary()\n"
   ]
  },
  {
   "cell_type": "markdown",
   "id": "5279f07e-059a-49b2-bbe0-5b397af5ea56",
   "metadata": {},
   "source": [
    "# Training"
   ]
  },
  {
   "cell_type": "markdown",
   "id": "7fd95492-2595-4594-afe2-e46de0ce1279",
   "metadata": {},
   "source": [
    "### Setup loss and Optimizers"
   ]
  },
  {
   "cell_type": "code",
   "execution_count": null,
   "id": "b641bad2-13a4-4e9c-98bc-745edc8690e0",
   "metadata": {},
   "outputs": [],
   "source": [
    "binary_cross_loss = tf.losses.BinaryCrossentropy()\n"
   ]
  },
  {
   "cell_type": "code",
   "execution_count": null,
   "id": "c8076cb3-16a2-4e30-acac-2c7d50b23f37",
   "metadata": {},
   "outputs": [],
   "source": [
    "opt = tf.keras.optimizers.Adam(1e-4) # 0.0001"
   ]
  },
  {
   "cell_type": "markdown",
   "id": "cb95c2fd-3137-467d-8461-1040a68ca991",
   "metadata": {},
   "source": [
    "### Establish checkpoints"
   ]
  },
  {
   "cell_type": "code",
   "execution_count": null,
   "id": "fcab081c-b17d-4161-b2d1-c9f0413f9405",
   "metadata": {},
   "outputs": [],
   "source": [
    "\n",
    "if not os.path.exists('training_checkpoints'):\n",
    "    os.makedirs('training_checkpoints')\n",
    "    \n",
    "checkpoint_dir = './training_checkpoints'\n",
    "checkpoint_prefix = os.path.join(checkpoint_dir,'ckpt')\n",
    "checkpoint = tf.train.Checkpoint(opt = opt, siamese_model=siamese_model)\n",
    "\n",
    "\n",
    "## To load pretrained weights form last checkpoint use\n",
    "# model.load('path_to_checkpoint')"
   ]
  },
  {
   "cell_type": "markdown",
   "id": "bf3c194d-9ca6-4965-8967-92d2056df588",
   "metadata": {},
   "source": [
    "### Build train step function"
   ]
  },
  {
   "cell_type": "code",
   "execution_count": null,
   "id": "2d08da78-9f1e-43f0-a591-816fbcd408d1",
   "metadata": {},
   "outputs": [],
   "source": [
    "test_batch = train_data.as_numpy_iterator()"
   ]
  },
  {
   "cell_type": "code",
   "execution_count": null,
   "id": "c6f3000d-779c-4813-afca-ff2291ba0087",
   "metadata": {},
   "outputs": [],
   "source": [
    "batch_1 = test_batch.next()"
   ]
  },
  {
   "cell_type": "code",
   "execution_count": null,
   "id": "ed01c22d-490f-4052-83b8-9afe88b30666",
   "metadata": {},
   "outputs": [],
   "source": [
    "len(batch_1)"
   ]
  },
  {
   "cell_type": "code",
   "execution_count": null,
   "id": "c5cb48eb-ab31-4ea7-aba3-2e27a85dc9a8",
   "metadata": {},
   "outputs": [],
   "source": [
    "len(batch_1[0])"
   ]
  },
  {
   "cell_type": "code",
   "execution_count": null,
   "id": "1ad3a5a0-a201-4ca6-ba65-f28be4207065",
   "metadata": {},
   "outputs": [],
   "source": [
    "len(batch_1[1])"
   ]
  },
  {
   "cell_type": "code",
   "execution_count": null,
   "id": "7c57f280-a7a3-4d9d-938b-b38dc0b76814",
   "metadata": {},
   "outputs": [],
   "source": [
    "batch_1[2] #label"
   ]
  },
  {
   "cell_type": "code",
   "execution_count": null,
   "id": "fe714ff5-765a-4545-a4a1-a187dba1497e",
   "metadata": {},
   "outputs": [],
   "source": [
    "X = batch_1[:2]"
   ]
  },
  {
   "cell_type": "code",
   "execution_count": null,
   "id": "f7d6f332-3aee-4c95-b0f3-6a00cc4b345b",
   "metadata": {},
   "outputs": [],
   "source": [
    "np.array(X).shape"
   ]
  },
  {
   "cell_type": "code",
   "execution_count": null,
   "id": "8ce04f7c-f5fe-438d-a293-fe2e80bc20ff",
   "metadata": {},
   "outputs": [],
   "source": [
    "y = batch_1[2]"
   ]
  },
  {
   "cell_type": "code",
   "execution_count": null,
   "id": "3dde3058-6c99-4881-855a-cee6cf9531d2",
   "metadata": {},
   "outputs": [],
   "source": [
    "y"
   ]
  },
  {
   "cell_type": "code",
   "execution_count": null,
   "id": "fff81680-13d4-44a5-b2b3-8942e2122de6",
   "metadata": {},
   "outputs": [],
   "source": [
    "@tf.function # compiles a function into a callable tensorflow graph\n",
    "\n",
    "def train_step(batch):\n",
    "    with tf.GradientTape() as tape:\n",
    "        #Get anchor and positive/negative image\n",
    "        X = batch[:2]\n",
    "        # Get label\n",
    "        y = batch[2]\n",
    "        \n",
    "        # Forward pass\n",
    "        yhat = siamese_model(X, training=True)\n",
    "        # calculate loss\n",
    "        loss = binary_cross_loss(y,yhat)\n",
    "        print(loss)\n",
    "    \n",
    "        # calculate gradients\n",
    "        grad = tape.gradient(loss, siamese_model.trainable_variables)\n",
    "        \n",
    "        # Calculate updated weights and apply to siamese model\n",
    "        opt.apply_gradients(zip(grad, siamese_model.trainable_variables))\n",
    "        \n",
    "        # the optimizer here is calculating and propagating the new weights using\n",
    "        # adam's optimiation algorithm.\n",
    "        \n",
    "        return loss\n",
    "    "
   ]
  },
  {
   "cell_type": "markdown",
   "id": "a7f7c0f0-5291-4769-a601-6bcffad6831f",
   "metadata": {},
   "source": [
    "### Build training loop"
   ]
  },
  {
   "cell_type": "code",
   "execution_count": null,
   "id": "076d3b4d-a16a-42ab-a4c2-a4831cac916f",
   "metadata": {},
   "outputs": [],
   "source": [
    "### Import metric calculations\n",
    "from tensorflow.keras.metrics import Precision,Recall"
   ]
  },
  {
   "cell_type": "code",
   "execution_count": null,
   "id": "773aebd7-2038-448c-aca0-47ed5a0ef6ec",
   "metadata": {},
   "outputs": [],
   "source": [
    "def train(data, Epochs):\n",
    "    \"\"\"Takes data and Epochs as inputs \n",
    "    and trains the model\"\"\"\n",
    "    for epoch in range(1,EPOCHS+1):\n",
    "        print('\\n epoch {}/{}'.format(epoch,Epochs))\n",
    "        progbar = tf.keras.utils.Progbar(len(data))\n",
    "        \n",
    "        # Creating a metric object\n",
    "        r = Recall()\n",
    "        p = Precision()\n",
    "        \n",
    "        # Loop through each batch\n",
    "        for idx,batch in enumerate(train_data):\n",
    "            # Run train step here\n",
    "            loss = train_step(batch)\n",
    "            yhat = siamese_model.predict(batch[:2])\n",
    "            r.update_state(batch[2],yhat)\n",
    "            p.update_state(batch[2],yhat)\n",
    "            progbar.update(idx+1)\n",
    "            print(loss.numpy(), r.result().numpy(), p.result().numpy())\n",
    "            \n",
    "        # Save checkpoints\n",
    "        if epoch % 10 ==0:\n",
    "            checkpoint.save(file_prefix = checkpoint_prefix)"
   ]
  },
  {
   "cell_type": "code",
   "execution_count": null,
   "id": "dd510a17-0e26-4530-911f-30a5d0e50335",
   "metadata": {},
   "outputs": [],
   "source": [
    "EPOCHS = 50"
   ]
  },
  {
   "cell_type": "code",
   "execution_count": null,
   "id": "1a1aa77e-fc9e-48f4-950a-67d873bb1b45",
   "metadata": {
    "tags": []
   },
   "outputs": [],
   "source": [
    "# train(train_data,EPOCHS)"
   ]
  },
  {
   "cell_type": "markdown",
   "id": "bdeb1e0b-6d6c-4ec0-b9dd-0c64dd3ea356",
   "metadata": {
    "tags": []
   },
   "source": [
    "# EValuate Model"
   ]
  },
  {
   "cell_type": "code",
   "execution_count": null,
   "id": "60abaad8-d168-4f7d-94cb-0df7e4cd4f80",
   "metadata": {},
   "outputs": [],
   "source": [
    "test_input,test_val,y_true = test_data.as_numpy_iterator().next()"
   ]
  },
  {
   "cell_type": "code",
   "execution_count": null,
   "id": "382eb6fa-1aaf-4d3b-a3a1-72d3cd6af562",
   "metadata": {},
   "outputs": [],
   "source": [
    "test_var = test_data.as_numpy_iterator().next()"
   ]
  },
  {
   "cell_type": "code",
   "execution_count": null,
   "id": "9ab89711-7290-41c3-a5b9-3ddc737826d1",
   "metadata": {},
   "outputs": [],
   "source": [
    "len(test_var[0]) #anchor"
   ]
  },
  {
   "cell_type": "code",
   "execution_count": null,
   "id": "d6815d8a-34f7-4841-88b5-2c927c5780e0",
   "metadata": {},
   "outputs": [],
   "source": [
    "len(test_var[1]) # positive/negative"
   ]
  },
  {
   "cell_type": "code",
   "execution_count": null,
   "id": "e3d0ee12-c7db-483b-b1d1-e4613e5f3551",
   "metadata": {},
   "outputs": [],
   "source": [
    "test_var[2]"
   ]
  },
  {
   "cell_type": "code",
   "execution_count": null,
   "id": "4edcaf35-a8b9-4ceb-8f1e-4b4346d493c3",
   "metadata": {},
   "outputs": [],
   "source": [
    "y_true"
   ]
  },
  {
   "cell_type": "code",
   "execution_count": null,
   "id": "26211b78-ec53-4174-84db-cb45cf28f15d",
   "metadata": {},
   "outputs": [],
   "source": [
    "# Make predictions\n",
    "y_hat = siamese_model.predict([test_input,test_val])\n",
    "y_hat"
   ]
  },
  {
   "cell_type": "markdown",
   "id": "ac3ffc20-4cba-4a0e-83e6-5d5e06fe9d16",
   "metadata": {},
   "source": [
    "### Make Predictions"
   ]
  },
  {
   "cell_type": "code",
   "execution_count": null,
   "id": "30d4d208-785a-4944-99f6-ea481b657b46",
   "metadata": {},
   "outputs": [],
   "source": [
    "# Post processing the result\n",
    "[1 if prediction > 0.5 else 0 for prediction in y_hat]\n"
   ]
  },
  {
   "cell_type": "code",
   "execution_count": null,
   "id": "9dc7035d-89fd-424f-b588-78bc8042aa3e",
   "metadata": {},
   "outputs": [],
   "source": [
    "y_true"
   ]
  },
  {
   "cell_type": "code",
   "execution_count": null,
   "id": "ee0815dd-f5e8-43f1-86aa-c1ce9878c1ec",
   "metadata": {},
   "outputs": [],
   "source": [
    "# creating a metric object\n",
    "m = Recall()\n",
    "#calculating recall value\n",
    "m.update_state(y_true,y_hat)\n",
    "# Return rcall Result\n",
    "m.result().numpy()"
   ]
  },
  {
   "cell_type": "code",
   "execution_count": null,
   "id": "d4ec53a6-f1ba-466d-ba67-34d02194dfb3",
   "metadata": {},
   "outputs": [],
   "source": [
    "# Creating a metric object \n",
    "m = Precision()\n",
    "\n",
    "# Calculating the recall value \n",
    "m.update_state(y_true, y_hat)\n",
    "\n",
    "# Return Recall Result\n",
    "m.result().numpy()"
   ]
  },
  {
   "cell_type": "markdown",
   "id": "dd8bc19e-04b0-4c5a-b64a-403fa35f04c6",
   "metadata": {},
   "source": [
    "### Visualize the result"
   ]
  },
  {
   "cell_type": "code",
   "execution_count": null,
   "id": "18a39009-e5e5-4498-8f7d-800f960e3728",
   "metadata": {},
   "outputs": [],
   "source": [
    "plt.figure(figsize=(18,8))\n",
    "\n",
    "# Set first subplot\n",
    "plt.subplot(1,2,1)\n",
    "plt.imshow(test_input[3])\n",
    "\n",
    "#set second subplot\n",
    "plt.subplot(1,2,2)\n",
    "plt.imshow(test_val[3])\n",
    "plt.show()"
   ]
  },
  {
   "cell_type": "markdown",
   "id": "3627f386-f84e-444c-97ac-e6b4c1380791",
   "metadata": {},
   "source": [
    "# Save Model"
   ]
  },
  {
   "cell_type": "code",
   "execution_count": null,
   "id": "af634928-7678-49ab-b1a0-983c0378b255",
   "metadata": {},
   "outputs": [],
   "source": [
    "## Save weights\n",
    "# siamese_model.save('siamesemodelv2.h5')"
   ]
  },
  {
   "cell_type": "code",
   "execution_count": null,
   "id": "2dc37bff-75f2-42b8-a645-cf6022d31d14",
   "metadata": {},
   "outputs": [],
   "source": [
    "# Reload the model\n",
    "model = tf.keras.models.load_model('siamesemodel.h5',custom_objects={'L1Dist':L1Dist,'BinaryCrossentropy':tf.losses.BinaryCrossentropy})"
   ]
  },
  {
   "cell_type": "code",
   "execution_count": null,
   "id": "f33b1192-dfb6-47c9-9828-0d1aa1837162",
   "metadata": {},
   "outputs": [],
   "source": [
    "model.predict([test_input,test_val])"
   ]
  },
  {
   "cell_type": "code",
   "execution_count": null,
   "id": "bd889aa1-1382-43f8-9444-ad9cdc287241",
   "metadata": {},
   "outputs": [],
   "source": [
    "# View model summary\n",
    "\n",
    "siamese_model.summary()"
   ]
  },
  {
   "cell_type": "markdown",
   "id": "59016214-1472-42ec-8363-55da91c246dd",
   "metadata": {},
   "source": [
    "# Real Time Test"
   ]
  },
  {
   "cell_type": "code",
   "execution_count": null,
   "id": "a347896a-1184-44e6-a52e-f83c503dcc91",
   "metadata": {},
   "outputs": [],
   "source": [
    "## Create few directories and folders\n",
    "\n",
    "if not os.path.exists('application_data'):\n",
    "    os.makedirs('application_data')\n",
    "    \n",
    "subfolder_names = ['input_image','verification_images']\n",
    "\n",
    "if not subfolder_name \n",
    "for subfolder_name in subfolder_names:\n",
    "    os.makedirs(os.path.join('application_data',subfolder_name))\n",
    "\n",
    "os.makedirs('application_data',exist_ok=True)"
   ]
  },
  {
   "cell_type": "code",
   "execution_count": null,
   "id": "73d1eb2b-d1a4-4a59-bf94-19c2e812b2e3",
   "metadata": {},
   "outputs": [],
   "source": [
    "# copy random files from one positive folder to verification_image folder\n",
    "\n",
    "import os\n",
    "import random\n",
    "import shutil\n",
    "\n",
    "source = 'data/positive'\n",
    "dest = 'application_data/verification_images'\n",
    "\n",
    "files = os.listdir(source)\n",
    "no_of_files = 50\n",
    "\n",
    "path, dirs, files_len = next(os.walk('application_data/verification_images')) #dir is your directory path as string\n",
    "\n",
    "print(\"Total number of files in directory are :\",len(files_len))\n",
    "\n",
    "if len(files_len) < 50:\n",
    "    for file_name in random.sample(files,no_of_files):\n",
    "        shutil.copy(os.path.join(source,file_name),dest)\n",
    "else:\n",
    "    pass\n"
   ]
  },
  {
   "cell_type": "code",
   "execution_count": null,
   "id": "3a854a34-64b6-4ee8-bf21-1ebfd6afda91",
   "metadata": {},
   "outputs": [],
   "source": []
  },
  {
   "cell_type": "markdown",
   "id": "61ea634e-a348-4db4-bac8-c77b5dbb5387",
   "metadata": {},
   "source": [
    "### Verification Function"
   ]
  },
  {
   "cell_type": "code",
   "execution_count": null,
   "id": "f712c216-b632-445e-a167-1ecd75e94cd3",
   "metadata": {},
   "outputs": [],
   "source": [
    "os.listdir(os.path.join('application_data','verification_images'))"
   ]
  },
  {
   "cell_type": "code",
   "execution_count": null,
   "id": "0a9ab7e9-5977-4d67-98a6-427dbd798edb",
   "metadata": {},
   "outputs": [],
   "source": [
    "os.path.join('application_data','input_image','input_image.jpg')"
   ]
  },
  {
   "cell_type": "code",
   "execution_count": null,
   "id": "a310d96b-9c09-46be-a9e5-b122ca3e45ed",
   "metadata": {
    "tags": []
   },
   "outputs": [],
   "source": [
    "for image in os.listdir(os.path.join('application_data','verification_images')):\n",
    "    validation_img = preprocess(os.path.join('application_data','verification_images',image))\n",
    "    print(validation_img)"
   ]
  },
  {
   "cell_type": "code",
   "execution_count": null,
   "id": "47140d48-617b-470e-b2af-26576980a53f",
   "metadata": {},
   "outputs": [],
   "source": []
  },
  {
   "cell_type": "code",
   "execution_count": null,
   "id": "cb64ce8f-ce30-40ef-8656-3af882f8f1ad",
   "metadata": {},
   "outputs": [],
   "source": []
  },
  {
   "cell_type": "code",
   "execution_count": null,
   "id": "9f547d6b-c42d-41d9-95c3-8611ee5fd2c8",
   "metadata": {},
   "outputs": [],
   "source": [
    "def verify(model, detection_threshold, verification_threshold):\n",
    "    \"\"\"\n",
    "    \n",
    "    model is what model are we going to use for predictions\n",
    "    Detection threshold is a metric above which a prediction is considered\n",
    "    positive.\n",
    "    Verification threshold is a proportion of a positive predictions / total positive\n",
    "    samples\n",
    "    \n",
    "    Has input_img function that preprocess the image and saves it in application_data/input_image/input_image.jpg\n",
    "    file path.\n",
    "    \"\"\"\n",
    "    \n",
    "    # Build results list\n",
    "    results = []\n",
    "    for image in os.listdir(os.path.join('application_data','verification_images')):\n",
    "        input_img = preprocess(os.path.join('application_data','input_image','input_image.jpg'))\n",
    "        #preprocess function that we created above to scale,resize and noramlize the images\n",
    "        validation_img = preprocess(os.path.join('application_data','verification_images',image))\n",
    "        \n",
    "        result = model.predict(list(np.expand_dims([input_img,validation_img],axis=1)))\n",
    "        results.append(result)\n",
    "    \n",
    "    \n",
    "    detection = np.sum(np.array(results) > detection_threshold) # it determines how many of our\n",
    "    # positive prediction are actually surpassing the detection_threshold\n",
    "    \n",
    "    verification = detection/len(os.listdir(os.path.join('application_data', 'verification_images')))\n",
    "    \n",
    "    verified = verification > verification_threshold\n",
    "    \n",
    "    return results, verified\n"
   ]
  },
  {
   "cell_type": "markdown",
   "id": "d5f2b35b-435f-4342-af73-297a4664fdd3",
   "metadata": {},
   "source": [
    "### OpenCV Real time verification"
   ]
  },
  {
   "cell_type": "code",
   "execution_count": null,
   "id": "47545096-ba24-46f8-93ad-6203a7bde2bf",
   "metadata": {},
   "outputs": [],
   "source": [
    "cap = cv2.VideoCapture(0)\n",
    "while cap.isOpened():\n",
    "    ret,frame = cap.read()\n",
    "    frame = (frame[220:220+250,250:250+250:])\n",
    "    \n",
    "    cv2.imshow('verification',frame)\n",
    "    \n",
    "    # Verification trigger\n",
    "    if cv2.waitKey(10) & 0xFF == ord('v'):\n",
    "        # Save input image to application_data/input_image folder\n",
    "        cv2.imwrite(os.path.join('application_data','input_image','input_image.jpg'),frame)\n",
    "        \n",
    "        \n",
    "        # Run verification\n",
    "        results,verified = verify(model,0.9,0.7)\n",
    "        print(verified)\n",
    "        \n",
    "    \n",
    "    if cv2.waitKey(10) & 0xFF == ord('q'):\n",
    "        break\n",
    "        \n",
    "cap.release()\n",
    "cv2.destroyAllWindows()\n",
    "    "
   ]
  },
  {
   "cell_type": "code",
   "execution_count": null,
   "id": "1ff98067-c036-4c6a-9837-5cdc6b25d804",
   "metadata": {},
   "outputs": [],
   "source": [
    "np.squeeze(results) > 0.5"
   ]
  },
  {
   "cell_type": "code",
   "execution_count": null,
   "id": "4b3c3e80-dc87-48e3-a006-a5615b7d4ccf",
   "metadata": {},
   "outputs": [],
   "source": [
    "np.sum(np.squeeze(results)>0.5)"
   ]
  },
  {
   "cell_type": "code",
   "execution_count": null,
   "id": "59da0b06-8757-46fd-a589-dded904fce4b",
   "metadata": {},
   "outputs": [],
   "source": []
  }
 ],
 "metadata": {
  "kernelspec": {
   "display_name": "Python [conda env:cv]",
   "language": "python",
   "name": "conda-env-cv-py"
  },
  "language_info": {
   "codemirror_mode": {
    "name": "ipython",
    "version": 3
   },
   "file_extension": ".py",
   "mimetype": "text/x-python",
   "name": "python",
   "nbconvert_exporter": "python",
   "pygments_lexer": "ipython3",
   "version": "3.6.13"
  }
 },
 "nbformat": 4,
 "nbformat_minor": 5
}
